{
 "cells": [
  {
   "cell_type": "code",
   "execution_count": 2,
   "metadata": {
    "scrolled": false
   },
   "outputs": [
    {
     "data": {
      "application/vnd.jupyter.widget-view+json": {
       "model_id": "",
       "version_major": 2,
       "version_minor": 0
      },
      "text/plain": [
       "Optimization Progress:   0%|          | 0/120 [00:00<?, ?pipeline/s]"
      ]
     },
     "metadata": {},
     "output_type": "display_data"
    },
    {
     "name": "stdout",
     "output_type": "stream",
     "text": [
      "\n",
      "Generation 1 - Current best internal CV score: 0.9499999198949958\n",
      "\n",
      "Generation 2 - Current best internal CV score: 0.9789751742215963\n",
      "\n",
      "Generation 3 - Current best internal CV score: 0.9789751742215963\n",
      "\n",
      "Generation 4 - Current best internal CV score: 0.979377515438679\n",
      "\n",
      "Generation 5 - Current best internal CV score: 0.979377515438679\n",
      "\n",
      "Best pipeline: DecisionTreeClassifier(input_matrix, criterion=gini, max_depth=10, min_samples_leaf=12, min_samples_split=9)\n",
      "Optimized Metric: precision\n",
      "Confusion Matrix:\n",
      "[[109449  18443]\n",
      " [ 15323  10867]]\n",
      "Classification Report:\n",
      "              precision    recall  f1-score   support\n",
      "\n",
      "       False       0.88      0.86      0.87    127892\n",
      "        True       0.37      0.41      0.39     26190\n",
      "\n",
      "    accuracy                           0.78    154082\n",
      "   macro avg       0.62      0.64      0.63    154082\n",
      "weighted avg       0.79      0.78      0.79    154082\n",
      "\n",
      "TPOT:\n",
      "0.3707608324803821\n"
     ]
    },
    {
     "data": {
      "application/vnd.jupyter.widget-view+json": {
       "model_id": "",
       "version_major": 2,
       "version_minor": 0
      },
      "text/plain": [
       "Optimization Progress:   0%|          | 0/120 [00:00<?, ?pipeline/s]"
      ]
     },
     "metadata": {},
     "output_type": "display_data"
    },
    {
     "name": "stdout",
     "output_type": "stream",
     "text": [
      "\n",
      "Generation 1 - Current best internal CV score: 0.9616570986710173\n",
      "\n",
      "Generation 2 - Current best internal CV score: 0.9947874477414091\n",
      "\n",
      "Generation 3 - Current best internal CV score: 0.9947874477414091\n",
      "\n",
      "Generation 4 - Current best internal CV score: 0.9947874477414091\n",
      "\n",
      "Generation 5 - Current best internal CV score: 0.998881394242208\n",
      "\n",
      "Best pipeline: GaussianNB(Binarizer(StandardScaler(input_matrix), threshold=0.65))\n",
      "Optimized Metric: recall\n",
      "Confusion Matrix:\n",
      "[[  7778 120114]\n",
      " [   285  25905]]\n",
      "Classification Report:\n",
      "              precision    recall  f1-score   support\n",
      "\n",
      "       False       0.96      0.06      0.11    127892\n",
      "        True       0.18      0.99      0.30     26190\n",
      "\n",
      "    accuracy                           0.22    154082\n",
      "   macro avg       0.57      0.52      0.21    154082\n",
      "weighted avg       0.83      0.22      0.15    154082\n",
      "\n",
      "TPOT:\n",
      "0.9891179839633448\n"
     ]
    }
   ],
   "source": [
    "import pandas as pd\n",
    "import matplotlib.pyplot as plt\n",
    "import numpy as np\n",
    "import matplotlib as mpl\n",
    "import seaborn as sns\n",
    "import warnings; warnings.filterwarnings(action='once')\n",
    "from sklearn.model_selection import train_test_split\n",
    "from sklearn.ensemble import RandomForestClassifier\n",
    "from sklearn.metrics import classification_report, confusion_matrix, accuracy_score\n",
    "import missingno as msno\n",
    "\n",
    "large = 22; med = 16; small = 12\n",
    "params = {'axes.titlesize': large,\n",
    "          'legend.fontsize': med,\n",
    "          'figure.figsize': (16, 10),\n",
    "          'axes.labelsize': med,\n",
    "          'axes.titlesize': med,\n",
    "          'xtick.labelsize': med,\n",
    "          'ytick.labelsize': med,\n",
    "          'figure.titlesize': large}\n",
    "plt.rcParams.update(params)\n",
    "plt.style.use('seaborn-whitegrid')\n",
    "sns.set_style(\"white\")\n",
    "\n",
    "\n",
    "from tpot import TPOTClassifier\n",
    "from sklearn.model_selection import RepeatedStratifiedKFold\n",
    "\n",
    "df_classification_binary_4_days = pd.read_csv(\"binary_danger_window_4_days_df.csv\", index_col=\"timestamp\")\n",
    "\n",
    "X = df_classification_binary_4_days.iloc[:, :-1]\n",
    "y = df_classification_binary_4_days.iloc[:, -1].values\n",
    "\n",
    "X_train, X_test, y_train, y_test = train_test_split(X, y, test_size = 0.70, shuffle=False)\n",
    "\n",
    "cv = RepeatedStratifiedKFold(n_splits=10, n_repeats=3, random_state=1)\n",
    "\n",
    "def get_tpot_pipe_binary_4_f1():\n",
    "    tpot = TPOTClassifier(generations=5, population_size=10, verbosity=2, random_state=42, scoring=\"f1\", config_dict=\"TPOT light\")\n",
    "    tpot.fit(X_train, y_train)\n",
    "\n",
    "    y_pred = tpot.predict(X_test)\n",
    "\n",
    "    confusion_mat = confusion_matrix(y_test, y_pred)\n",
    "    print(\"Confusion Matrix:\")\n",
    "    print(confusion_mat)\n",
    "    classification_rep = classification_report(y_test, y_pred)\n",
    "    print(\"Classification Report:\",)\n",
    "    print (classification_rep)\n",
    "    print(\"TPOT:\")\n",
    "    print(tpot.score(X_test, y_test))\n",
    "    tpot.export('tpot_digits_pipeline_light.py')\n",
    "\n",
    "def get_tpot_pipe_binary_4_precision(scoring):\n",
    "    tpot = TPOTClassifier(generations=5, population_size=20,\n",
    "                          verbosity=2, random_state=42, scoring=scoring, \n",
    "                          cv=cv, config_dict=\"TPOT light\", n_jobs=-1)\n",
    "    \n",
    "    tpot.fit(X_train, y_train)\n",
    "\n",
    "    y_pred = tpot.predict(X_test)\n",
    "\n",
    "    print(\"Optimized Metric: \" + scoring)\n",
    "    confusion_mat = confusion_matrix(y_test, y_pred)\n",
    "    print(\"Confusion Matrix:\")\n",
    "    print(confusion_mat)\n",
    "    classification_rep = classification_report(y_test, y_pred)\n",
    "    print(\"Classification Report:\",)\n",
    "    print (classification_rep)\n",
    "    print(\"TPOT:\")\n",
    "    print(tpot.score(X_test, y_test))\n",
    "    tpot.export('tpot_pipe_light_binary_4_%s.py'%(scoring))\n",
    "                \n",
    "get_tpot_pipe_binary_4_precision(\"precision\")\n",
    "get_tpot_pipe_binary_4_precision(\"recall\")\n",
    "                \n",
    "\n"
   ]
  },
  {
   "cell_type": "code",
   "execution_count": null,
   "metadata": {},
   "outputs": [
    {
     "data": {
      "application/vnd.jupyter.widget-view+json": {
       "model_id": "9adfe54a27b04a629ae52b9e4fa3316c",
       "version_major": 2,
       "version_minor": 0
      },
      "text/plain": [
       "Optimization Progress:   0%|          | 0/120 [00:00<?, ?pipeline/s]"
      ]
     },
     "metadata": {},
     "output_type": "display_data"
    }
   ],
   "source": [
    "import pandas as pd\n",
    "import matplotlib.pyplot as plt\n",
    "import numpy as np\n",
    "import matplotlib as mpl\n",
    "import seaborn as sns\n",
    "import warnings; warnings.filterwarnings(action='once')\n",
    "from sklearn.model_selection import train_test_split\n",
    "from sklearn.ensemble import RandomForestClassifier\n",
    "from sklearn.metrics import classification_report, confusion_matrix, accuracy_score\n",
    "import missingno as msno\n",
    "\n",
    "large = 22; med = 16; small = 12\n",
    "params = {'axes.titlesize': large,\n",
    "          'legend.fontsize': med,\n",
    "          'figure.figsize': (16, 10),\n",
    "          'axes.labelsize': med,\n",
    "          'axes.titlesize': med,\n",
    "          'xtick.labelsize': med,\n",
    "          'ytick.labelsize': med,\n",
    "          'figure.titlesize': large}\n",
    "plt.rcParams.update(params)\n",
    "plt.style.use('seaborn-whitegrid')\n",
    "sns.set_style(\"white\")\n",
    "\n",
    "\n",
    "from tpot import TPOTClassifier\n",
    "from sklearn.model_selection import RepeatedStratifiedKFold\n",
    "\n",
    "df_classification_binary_4_days = pd.read_csv(\"binary_danger_window_4_days_df.csv\", index_col=\"timestamp\")\n",
    "\n",
    "X = df_classification_binary_4_days.iloc[:, :-1]\n",
    "y = df_classification_binary_4_days.iloc[:, -1].values\n",
    "\n",
    "X_train, X_test, y_train, y_test = train_test_split(X, y, test_size = 0.70, shuffle=False)\n",
    "\n",
    "cv = RepeatedStratifiedKFold(n_splits=10, n_repeats=3, random_state=1)\n",
    "\n",
    "def get_tpot_pipe_binary_4(scoring):\n",
    "    tpot = TPOTClassifier(generations=5, population_size=20,\n",
    "                          verbosity=2, random_state=42, scoring=scoring, \n",
    "                          cv=cv, n_jobs=-1)\n",
    "    \n",
    "    tpot.fit(X_train, y_train)\n",
    "\n",
    "    y_pred = tpot.predict(X_test)\n",
    "\n",
    "    print(\"Optimized Metric: \" + scoring)\n",
    "    confusion_mat = confusion_matrix(y_test, y_pred)\n",
    "    print(\"Confusion Matrix:\")\n",
    "    print(confusion_mat)\n",
    "    classification_rep = classification_report(y_test, y_pred)\n",
    "    print(\"Classification Report:\",)\n",
    "    print (classification_rep)\n",
    "    print(\"TPOT:\")\n",
    "    print(tpot.score(X_test, y_test))\n",
    "    tpot.export('tpot_pipe_binary_4_%s.py'%(scoring))\n",
    "    \n",
    "get_tpot_pipe_binary_4(\"precision\")\n",
    "get_tpot_pipe_binary_4(\"f1\")"
   ]
  },
  {
   "cell_type": "code",
   "execution_count": null,
   "metadata": {},
   "outputs": [],
   "source": [
    "# "
   ]
  }
 ],
 "metadata": {
  "kernelspec": {
   "display_name": "Python 3",
   "language": "python",
   "name": "python3"
  },
  "language_info": {
   "codemirror_mode": {
    "name": "ipython",
    "version": 3
   },
   "file_extension": ".py",
   "mimetype": "text/x-python",
   "name": "python",
   "nbconvert_exporter": "python",
   "pygments_lexer": "ipython3",
   "version": "3.8.3"
  }
 },
 "nbformat": 4,
 "nbformat_minor": 4
}
